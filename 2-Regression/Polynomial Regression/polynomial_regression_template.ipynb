{
 "cells": [
  {
   "cell_type": "markdown",
   "metadata": {},
   "source": [
    "## Polynomial Regression        "
   ]
  },
  {
   "cell_type": "code",
   "execution_count": 1,
   "metadata": {},
   "outputs": [],
   "source": [
    "##Importing the libraries\n",
    "import numpy as np\n",
    "import matplotlib.pyplot as plt\n",
    "import pandas as pd "
   ]
  },
  {
   "cell_type": "markdown",
   "metadata": {},
   "source": [
    "#### Introduction to the Dataset\n",
    "\n",
    "Our dataset is about a company's Salary policy. In contains Position Name, Position Level and these salaries. As a machine learning study, we are using this dataset to predict salary amount according to the level stage. In business case, this model can be use -in basic stage- salary amount confirmatory model to comparing new personel hiring process.For example, A candidate say that he has Level 6.5 on his previous company and he earned nearly 185000USD/year. In this instance, model can be use for predicting the salary amount with respect to his level stage. Thus, employers can measure the consistency of candidate words.     "
   ]
  },
  {
   "cell_type": "code",
   "execution_count": 2,
   "metadata": {},
   "outputs": [
    {
     "data": {
      "text/html": [
       "<div>\n",
       "<style scoped>\n",
       "    .dataframe tbody tr th:only-of-type {\n",
       "        vertical-align: middle;\n",
       "    }\n",
       "\n",
       "    .dataframe tbody tr th {\n",
       "        vertical-align: top;\n",
       "    }\n",
       "\n",
       "    .dataframe thead th {\n",
       "        text-align: right;\n",
       "    }\n",
       "</style>\n",
       "<table border=\"1\" class=\"dataframe\">\n",
       "  <thead>\n",
       "    <tr style=\"text-align: right;\">\n",
       "      <th></th>\n",
       "      <th>Position</th>\n",
       "      <th>Level</th>\n",
       "      <th>Salary</th>\n",
       "    </tr>\n",
       "  </thead>\n",
       "  <tbody>\n",
       "    <tr>\n",
       "      <th>0</th>\n",
       "      <td>Business Analyst</td>\n",
       "      <td>1</td>\n",
       "      <td>45000</td>\n",
       "    </tr>\n",
       "    <tr>\n",
       "      <th>1</th>\n",
       "      <td>Junior Consultant</td>\n",
       "      <td>2</td>\n",
       "      <td>50000</td>\n",
       "    </tr>\n",
       "    <tr>\n",
       "      <th>2</th>\n",
       "      <td>Senior Consultant</td>\n",
       "      <td>3</td>\n",
       "      <td>60000</td>\n",
       "    </tr>\n",
       "    <tr>\n",
       "      <th>3</th>\n",
       "      <td>Manager</td>\n",
       "      <td>4</td>\n",
       "      <td>80000</td>\n",
       "    </tr>\n",
       "    <tr>\n",
       "      <th>4</th>\n",
       "      <td>Country Manager</td>\n",
       "      <td>5</td>\n",
       "      <td>110000</td>\n",
       "    </tr>\n",
       "    <tr>\n",
       "      <th>5</th>\n",
       "      <td>Region Manager</td>\n",
       "      <td>6</td>\n",
       "      <td>150000</td>\n",
       "    </tr>\n",
       "    <tr>\n",
       "      <th>6</th>\n",
       "      <td>Partner</td>\n",
       "      <td>7</td>\n",
       "      <td>200000</td>\n",
       "    </tr>\n",
       "    <tr>\n",
       "      <th>7</th>\n",
       "      <td>Senior Partner</td>\n",
       "      <td>8</td>\n",
       "      <td>300000</td>\n",
       "    </tr>\n",
       "    <tr>\n",
       "      <th>8</th>\n",
       "      <td>C-level</td>\n",
       "      <td>9</td>\n",
       "      <td>500000</td>\n",
       "    </tr>\n",
       "    <tr>\n",
       "      <th>9</th>\n",
       "      <td>CEO</td>\n",
       "      <td>10</td>\n",
       "      <td>1000000</td>\n",
       "    </tr>\n",
       "  </tbody>\n",
       "</table>\n",
       "</div>"
      ],
      "text/plain": [
       "            Position  Level   Salary\n",
       "0   Business Analyst      1    45000\n",
       "1  Junior Consultant      2    50000\n",
       "2  Senior Consultant      3    60000\n",
       "3            Manager      4    80000\n",
       "4    Country Manager      5   110000\n",
       "5     Region Manager      6   150000\n",
       "6            Partner      7   200000\n",
       "7     Senior Partner      8   300000\n",
       "8            C-level      9   500000\n",
       "9                CEO     10  1000000"
      ]
     },
     "execution_count": 2,
     "metadata": {},
     "output_type": "execute_result"
    }
   ],
   "source": [
    "## Importing the dataset\n",
    "dataset = pd.read_csv(\"Data.csv\")\n",
    "dataset.head(10)"
   ]
  },
  {
   "cell_type": "code",
   "execution_count": 3,
   "metadata": {},
   "outputs": [
    {
     "name": "stdout",
     "output_type": "stream",
     "text": [
      "[[ 1]\n",
      " [ 2]\n",
      " [ 3]\n",
      " [ 4]\n",
      " [ 5]\n",
      " [ 6]\n",
      " [ 7]\n",
      " [ 8]\n",
      " [ 9]\n",
      " [10]]\n",
      "[  45000   50000   60000   80000  110000  150000  200000  300000  500000\n",
      " 1000000]\n"
     ]
    }
   ],
   "source": [
    "##Splitting the dataset into Feature/s and Label \n",
    "X = dataset.iloc[:, 1:2].values        \n",
    "        #We select independent variable that is Level column.\n",
    "        #sklearn models works with matrix of feature/s. So, if\n",
    "        #there is only one feature group, we should convert it like a matrix\n",
    "print(X)\n",
    "                          \n",
    "y = dataset.iloc[:,2].values           \n",
    "        #We just type :,2 for selecting the last column which is our\n",
    "        #Label or target: Salary. Label column can be vector. Sklearn\n",
    "        #can work with its structure.\n",
    "        #Also, it can be select with :-1. This takes only last column.\n",
    "                \n",
    "print(y)\n",
    "\n",
    "## Splitting the dataset into training set and a test set\n",
    "\n",
    "        #Our dataset is very limited. Also we desire to develop \n",
    "        #a very accurate salary predicition model. So we do not\n",
    "        #need to split dataset to the test set and the training set. \n",
    "        \n",
    "## Feature Scaling          \n",
    "        \n",
    "        #We are not implement the Feature Scaling step. Because,\n",
    "        #After some preprocessing steps, linear regression\n",
    "        #model will be use to predict new label values.\n",
    "        #So, model cares the scaling process itself"
   ]
  },
  {
   "cell_type": "markdown",
   "metadata": {},
   "source": [
    "#### Comparing 2 Models - Simple Linear Regression and Polynomial Regression\n",
    "\n",
    "Here, we are going to create to machine leaning models with Simple Linear Regression and Polynomial Regression. As we know SLR has below equation; \n",
    "\n",
    "    y = b0 + b1.x1\n",
    "\n",
    "It has b0 and b1 coefficients and x1 and x0 variables.(x0 = 0, so it is not seen) \n",
    "In polynomial regression;\n",
    "\n",
    "    y = b0 + b1.x1^(1) + b2.x1^(2) + b3.x1^(3) + b4.x1^(4) + ... +  bn.x1^(n)\n",
    "    \n",
    "So, it can be say that it is like linear regression but its x1 variable can be expand and represent with high degrees. So, when the linear regression is represented with a smooth line, polynomial regression can be displayed with curved line. It can be convex or concave.  \n",
    "\n"
   ]
  },
  {
   "cell_type": "code",
   "execution_count": 4,
   "metadata": {},
   "outputs": [
    {
     "data": {
      "text/plain": [
       "LinearRegression(copy_X=True, fit_intercept=True, n_jobs=1, normalize=False)"
      ]
     },
     "execution_count": 4,
     "metadata": {},
     "output_type": "execute_result"
    }
   ],
   "source": [
    "# Fitting the Linear Regression to the dataset\n",
    "\n",
    "from sklearn.linear_model import LinearRegression\n",
    "lin_reg = LinearRegression()\n",
    "lin_reg.fit(X,y)"
   ]
  },
  {
   "cell_type": "code",
   "execution_count": 5,
   "metadata": {},
   "outputs": [
    {
     "data": {
      "text/plain": [
       "(array([[  1.,   1.,   1.],\n",
       "        [  1.,   2.,   4.],\n",
       "        [  1.,   3.,   9.],\n",
       "        [  1.,   4.,  16.],\n",
       "        [  1.,   5.,  25.],\n",
       "        [  1.,   6.,  36.],\n",
       "        [  1.,   7.,  49.],\n",
       "        [  1.,   8.,  64.],\n",
       "        [  1.,   9.,  81.],\n",
       "        [  1.,  10., 100.]]),\n",
       " PolynomialFeatures(degree=2, include_bias=True, interaction_only=False),\n",
       " LinearRegression(copy_X=True, fit_intercept=True, n_jobs=1, normalize=False))"
      ]
     },
     "execution_count": 5,
     "metadata": {},
     "output_type": "execute_result"
    }
   ],
   "source": [
    "# Transforming the X to the Polynomial Features\n",
    "\n",
    "from sklearn.preprocessing import PolynomialFeatures\n",
    "def poly_model(degree):\n",
    "    poly_reg = PolynomialFeatures(degree = degree)  \n",
    "    X_poly = poly_reg.fit_transform(X)\n",
    "    #print(X_poly)\n",
    "    \n",
    "    # Fitting the Polynomial Regression to the dataset\n",
    "    lin_reg_2 = LinearRegression()\n",
    "    lin_reg_2.fit(X_poly,y)\n",
    "    return X_poly, poly_reg, lin_reg_2\n",
    "\n",
    "poly_model(degree = 2)"
   ]
  },
  {
   "cell_type": "markdown",
   "metadata": {},
   "source": [
    "#### Implementing the Polynomial regression model to the dataset\n",
    "\n",
    "Firstly, we imported package and created an object with degree = 2. poly_reg object helps matrix of features of X to fit and transform to 2 degrees. It creates an equation like;\n",
    "\n",
    "    y = b0 + b1.x1^(1) + b2.x1^(2)\n",
    "    \n",
    "All 1s are represent x0 variables, second column shows x1 and last column displays x1^(2) variable. It is the 2nd degree of x1^(1) variables.\n",
    "    \n",
    "After the fit and tranformation of the X set, we implement the LinearRegression() model and fit it with X_poly and y."
   ]
  },
  {
   "cell_type": "code",
   "execution_count": 6,
   "metadata": {},
   "outputs": [
    {
     "data": {
      "image/png": "[encoded data removed]",
      "text/plain": [
       "<Figure size 432x288 with 1 Axes>"
      ]
     },
     "metadata": {},
     "output_type": "display_data"
    }
   ],
   "source": [
    "#Visualizing the Linear Regression Results\n",
    "\n",
    "plt.scatter(X, y, color =\"red\")\n",
    "plt.plot(X, lin_reg.predict(X), color = \"blue\")\n",
    "plt.title(\"Truth or Bluff (Linear Regression)\")\n",
    "plt.xlabel(\"Position' Level\")\n",
    "plt.ylabel(\"Salary\")\n",
    "plt.show()"
   ]
  },
  {
   "cell_type": "markdown",
   "metadata": {},
   "source": [
    "- On the above, we plotted the line according to the linear regression model.As you see, the line is not a very smooth with real salary points. We can just say that Level 3 and Level 9 are close to the prediction line but another real Level dots are different from the predicted salary results.   "
   ]
  },
  {
   "cell_type": "code",
   "execution_count": 7,
   "metadata": {},
   "outputs": [
    {
     "name": "stdout",
     "output_type": "stream",
     "text": [
      "Polynomial Degree :  2 \n",
      "\n"
     ]
    },
    {
     "data": {
      "image/png": "[encoded data removed]",
      "text/plain": [
       "<Figure size 432x288 with 1 Axes>"
      ]
     },
     "metadata": {},
     "output_type": "display_data"
    },
    {
     "name": "stdout",
     "output_type": "stream",
     "text": [
      "Polynomial Degree :  3 \n",
      "\n"
     ]
    },
    {
     "data": {
      "image/png": "[encoded data removed]",
      "text/plain": [
       "<Figure size 432x288 with 1 Axes>"
      ]
     },
     "metadata": {},
     "output_type": "display_data"
    },
    {
     "name": "stdout",
     "output_type": "stream",
     "text": [
      "Polynomial Degree :  4 \n",
      "\n"
     ]
    },
    {
     "data": {
      "image/png": "[encoded data removed]",
      "text/plain": [
       "<Figure size 432x288 with 1 Axes>"
      ]
     },
     "metadata": {},
     "output_type": "display_data"
    }
   ],
   "source": [
    "#Visualizing the Polynomial Regression Results\n",
    "\n",
    "X_grid = np.arange(min(X), max(X), 0.1)\n",
    "X_grid = X_grid.reshape(len(X_grid), 1)\n",
    "\n",
    "for degree in range(2,5):                       #\"for loop\" for the plotting with different degrees \n",
    "    print(\"Polynomial Degree : \" , degree, \"\\n\")\n",
    "    X_poly, poly_reg, lin_reg_2 = poly_model(degree)    #call the model for plotting process \n",
    "    plt.scatter(X, y, color =\"red\")\n",
    "    plt.plot(X_grid, lin_reg_2.predict(poly_reg.fit_transform(X_grid)), color = \"blue\")\n",
    "    plt.title(\"Truth or Bluff (Polynomial Regression)\")\n",
    "    plt.xlabel(\"Position' Level\")\n",
    "    plt.ylabel(\"Salary\")\n",
    "    plt.show()"
   ]
  },
  {
   "cell_type": "markdown",
   "metadata": {},
   "source": [
    "#### Visualizations of Various Level of Degrees of Polynomial Regression \n",
    "\n",
    "As you see on the above, we plotted 2nd, 3th and 4th degrees of the Polynomial Regression models to understand some differences from each other. According to the graphs, we can say that if the degree of the model increase, the line becomes more curved and passes very close to the Level points. Actually, it causes the overfitting problem and this is not a good thing but our target is a creating more accurate prediction model with limited dataset. So, we will ignore this situation.\n",
    "\n",
    "On the 2nd degree polynomial regression graph, the line curves as a polynomial. On the 3rd, line becomes a concave and the 4th degree line nearly occurs with more accurate with real Salary Levels.    "
   ]
  },
  {
   "cell_type": "code",
   "execution_count": 8,
   "metadata": {},
   "outputs": [
    {
     "data": {
      "text/plain": [
       "array([330378.78787879])"
      ]
     },
     "execution_count": 8,
     "metadata": {},
     "output_type": "execute_result"
    }
   ],
   "source": [
    "# Predicting a new result with linear Regression\n",
    "lin_reg.predict(6.5)"
   ]
  },
  {
   "cell_type": "code",
   "execution_count": 9,
   "metadata": {},
   "outputs": [
    {
     "data": {
      "text/plain": [
       "array([158862.4526516])"
      ]
     },
     "execution_count": 9,
     "metadata": {},
     "output_type": "execute_result"
    }
   ],
   "source": [
    "# Predicting a new result with Polynomial Regression\n",
    "lin_reg_2.predict(poly_reg.fit_transform(6.5))"
   ]
  },
  {
   "cell_type": "markdown",
   "metadata": {},
   "source": [
    "#### Comparing the models with respect to predicted result \n",
    "\n",
    "According to the Level and Salary distributions Level: 6.5 is existed between 150.000USD and 200.000USD Salary ranges. So, we hope that our best model can give us a predicted value in this range. Polynomial regression model give more accurate results with respect to our target. Linear Regressor predicts 330.378USD, but 2nd degree Linear regressor predicts 158.862USD."
   ]
  },
  {
   "cell_type": "code",
   "execution_count": 10,
   "metadata": {},
   "outputs": [
    {
     "name": "stdout",
     "output_type": "stream",
     "text": [
      "Polynomial Regressor Score :  0.9162082221443942\n",
      "Linear Regressor Score :  0.6690412331929895\n"
     ]
    }
   ],
   "source": [
    "#Determining the Fitting Scores for Regression models\n",
    "\n",
    "X_poly ,poly_reg , lin_reg_2 = poly_model(2)\n",
    "\n",
    "print(\"Polynomial Regressor Score : \", lin_reg_2.score(X_poly, y))\n",
    "\n",
    "print(\"Linear Regressor Score : \", lin_reg.score(X, y))"
   ]
  },
  {
   "cell_type": "code",
   "execution_count": null,
   "metadata": {},
   "outputs": [],
   "source": []
  }
 ],
 "metadata": {
  "kernelspec": {
   "display_name": "Python 3",
   "language": "python",
   "name": "python3"
  },
  "language_info": {
   "codemirror_mode": {
    "name": "ipython",
    "version": 3
   },
   "file_extension": ".py",
   "mimetype": "text/x-python",
   "name": "python",
   "nbconvert_exporter": "python",
   "pygments_lexer": "ipython3",
   "version": "3.6.4"
  }
 },
 "nbformat": 4,
 "nbformat_minor": 2
}
